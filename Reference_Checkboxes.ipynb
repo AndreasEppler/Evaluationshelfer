{
 "cells": [
  {
   "cell_type": "code",
   "execution_count": 75,
   "metadata": {
    "scrolled": true
   },
   "outputs": [],
   "source": [
    "import numpy as np\n",
    "from PIL import Image, ImageOps\n",
    "from IPython.display import display \n",
    "from math import inf\n",
    "import itertools\n",
    "\n",
    "# Referenzbogen: Bogen1.jpg\n",
    "ref_bogen = Image.open(\"./Evaluationshelfer_Daten/boegen/Bogen1.jpg\")\n",
    "\n",
    "\n",
    "reference_corner_positions = [\n",
    "    [1127, 381], # upper left\n",
    "    [2313, 372], # upper right\n",
    "    [2311, 2741], # lower right\n",
    "    [1125, 2746] # lower left\n",
    "]\n",
    "\n",
    "\n",
    "# Contains Reference Values for positions of checkboxes (dimension 65x65)\n",
    "reference_checkbox_positions = [\n",
    "    [[1243+ x*233, 796] for x in range(0, 5)],\n",
    "    [[1243+ x*233, 884] for x in range(0, 5)],\n",
    "    [[1243+x*233, 989] for x in range(0, 5)],\n",
    "    [[1243+x*233, 1143] for x in range(0, 5)],\n",
    "    [[1243+x*233, 1283] for x in range(0, 5)],\n",
    "    [[1243+x*233, 1418] for x in range(0, 5)],\n",
    "    [[1243+x*233, 1608] for x in range(0, 5)],\n",
    "    [[1243+x*233, 1728] for x in range(0, 5)],\n",
    "    [[1243+x*233, 1848] for x in range(0, 5)],\n",
    "    [[1243+x*233, 2043] for x in range(0, 5)],\n",
    "    [[1243+x*233, 2131] for x in range(0, 5)],\n",
    "    [[1243+x*233, 2316] for x in range(0, 5)],\n",
    "    [[1213, 2524], [1383, 2522], [1593, 2522], [1853, 2523], [2183, 2521]],\n",
    "    [[1243+x*233, 2706] for x in range(0, 5)]]"
   ]
  },
  {
   "cell_type": "code",
   "execution_count": 76,
   "metadata": {},
   "outputs": [
    {
     "name": "stdout",
     "output_type": "stream",
     "text": [
      "Frage  1  - Box  0\n"
     ]
    },
    {
     "data": {
      "image/png": "[encoded data removed]",
      "text/plain": [
       "<PIL.Image.Image image mode=RGBA size=40x40 at 0x7FF5D04920A0>"
      ]
     },
     "metadata": {},
     "output_type": "display_data"
    },
    {
     "name": "stdout",
     "output_type": "stream",
     "text": [
      "Frage  1  - Box  1\n"
     ]
    },
    {
     "data": {
      "image/png": "[encoded data removed]",
      "text/plain": [
       "<PIL.Image.Image image mode=RGBA size=40x40 at 0x7FF5CFE2F940>"
      ]
     },
     "metadata": {},
     "output_type": "display_data"
    },
    {
     "name": "stdout",
     "output_type": "stream",
     "text": [
      "Frage  1  - Box  2\n"
     ]
    },
    {
     "data": {
      "image/png": "[encoded data removed]",
      "text/plain": [
       "<PIL.Image.Image image mode=RGBA size=40x40 at 0x7FF5D047CF40>"
      ]
     },
     "metadata": {},
     "output_type": "display_data"
    },
    {
     "name": "stdout",
     "output_type": "stream",
     "text": [
      "Frage  1  - Box  3\n"
     ]
    },
    {
     "data": {
      "image/png": "[encoded data removed]",
      "text/plain": [
       "<PIL.Image.Image image mode=RGBA size=40x40 at 0x7FF5D047CE20>"
      ]
     },
     "metadata": {},
     "output_type": "display_data"
    },
    {
     "name": "stdout",
     "output_type": "stream",
     "text": [
      "Frage  1  - Box  4\n"
     ]
    },
    {
     "data": {
      "image/png": "[encoded data removed]",
      "text/plain": [
       "<PIL.Image.Image image mode=RGBA size=40x40 at 0x7FF5CFE2F7C0>"
      ]
     },
     "metadata": {},
     "output_type": "display_data"
    },
    {
     "name": "stdout",
     "output_type": "stream",
     "text": [
      "Frage  2  - Box  0\n"
     ]
    },
    {
     "data": {
      "image/png": "[encoded data removed]",
      "text/plain": [
       "<PIL.Image.Image image mode=RGBA size=40x40 at 0x7FF5CFE2FC70>"
      ]
     },
     "metadata": {},
     "output_type": "display_data"
    },
    {
     "name": "stdout",
     "output_type": "stream",
     "text": [
      "Frage  2  - Box  1\n"
     ]
    },
    {
     "data": {
      "image/png": "[encoded data removed]",
      "text/plain": [
       "<PIL.Image.Image image mode=RGBA size=40x40 at 0x7FF5D1373A90>"
      ]
     },
     "metadata": {},
     "output_type": "display_data"
    },
    {
     "name": "stdout",
     "output_type": "stream",
     "text": [
      "Frage  2  - Box  2\n"
     ]
    },
    {
     "data": {
      "image/png": "[encoded data removed]",
      "text/plain": [
       "<PIL.Image.Image image mode=RGBA size=40x40 at 0x7FF5D047CE20>"
      ]
     },
     "metadata": {},
     "output_type": "display_data"
    },
    {
     "name": "stdout",
     "output_type": "stream",
     "text": [
      "Frage  2  - Box  3\n"
     ]
    },
    {
     "data": {
      "image/png": "[encoded data removed]",
      "text/plain": [
       "<PIL.Image.Image image mode=RGBA size=40x40 at 0x7FF5D0492D90>"
      ]
     },
     "metadata": {},
     "output_type": "display_data"
    },
    {
     "name": "stdout",
     "output_type": "stream",
     "text": [
      "Frage  2  - Box  4\n"
     ]
    },
    {
     "data": {
      "image/png": "[encoded data removed]",
      "text/plain": [
       "<PIL.Image.Image image mode=RGBA size=40x40 at 0x7FF5D1373A30>"
      ]
     },
     "metadata": {},
     "output_type": "display_data"
    },
    {
     "name": "stdout",
     "output_type": "stream",
     "text": [
      "Frage  3  - Box  0\n"
     ]
    },
    {
     "data": {
      "image/png": "[encoded data removed]",
      "text/plain": [
       "<PIL.Image.Image image mode=RGBA size=40x40 at 0x7FF5CFE2F7C0>"
      ]
     },
     "metadata": {},
     "output_type": "display_data"
    },
    {
     "name": "stdout",
     "output_type": "stream",
     "text": [
      "Frage  3  - Box  1\n"
     ]
    },
    {
     "data": {
      "image/png": "[encoded data removed]",
      "text/plain": [
       "<PIL.Image.Image image mode=RGBA size=40x40 at 0x7FF5D13730A0>"
      ]
     },
     "metadata": {},
     "output_type": "display_data"
    },
    {
     "name": "stdout",
     "output_type": "stream",
     "text": [
      "Frage  3  - Box  2\n"
     ]
    },
    {
     "data": {
      "image/png": "[encoded data removed]",
      "text/plain": [
       "<PIL.Image.Image image mode=RGBA size=40x40 at 0x7FF5D047CF40>"
      ]
     },
     "metadata": {},
     "output_type": "display_data"
    },
    {
     "name": "stdout",
     "output_type": "stream",
     "text": [
      "Frage  3  - Box  3\n"
     ]
    },
    {
     "data": {
      "image/png": "[encoded data removed]",
      "text/plain": [
       "<PIL.Image.Image image mode=RGBA size=40x40 at 0x7FF5CFE2F7C0>"
      ]
     },
     "metadata": {},
     "output_type": "display_data"
    },
    {
     "name": "stdout",
     "output_type": "stream",
     "text": [
      "Frage  3  - Box  4\n"
     ]
    },
    {
     "data": {
      "image/png": "[encoded data removed]",
      "text/plain": [
       "<PIL.Image.Image image mode=RGBA size=40x40 at 0x7FF5D1373400>"
      ]
     },
     "metadata": {},
     "output_type": "display_data"
    },
    {
     "name": "stdout",
     "output_type": "stream",
     "text": [
      "Frage  4  - Box  0\n"
     ]
    },
    {
     "data": {
      "image/png": "[encoded data removed]",
      "text/plain": [
       "<PIL.Image.Image image mode=RGBA size=40x40 at 0x7FF5D047CF40>"
      ]
     },
     "metadata": {},
     "output_type": "display_data"
    },
    {
     "name": "stdout",
     "output_type": "stream",
     "text": [
      "Frage  4  - Box  1\n"
     ]
    },
    {
     "data": {
      "image/png": "[encoded data removed]",
      "text/plain": [
       "<PIL.Image.Image image mode=RGBA size=40x40 at 0x7FF5CFE2FC70>"
      ]
     },
     "metadata": {},
     "output_type": "display_data"
    },
    {
     "name": "stdout",
     "output_type": "stream",
     "text": [
      "Frage  4  - Box  2\n"
     ]
    },
    {
     "data": {
      "image/png": "[encoded data removed]",
      "text/plain": [
       "<PIL.Image.Image image mode=RGBA size=40x40 at 0x7FF5D1373F70>"
      ]
     },
     "metadata": {},
     "output_type": "display_data"
    },
    {
     "name": "stdout",
     "output_type": "stream",
     "text": [
      "Frage  4  - Box  3\n"
     ]
    },
    {
     "data": {
      "image/png": "[encoded data removed]",
      "text/plain": [
       "<PIL.Image.Image image mode=RGBA size=40x40 at 0x7FF5D047CE80>"
      ]
     },
     "metadata": {},
     "output_type": "display_data"
    },
    {
     "name": "stdout",
     "output_type": "stream",
     "text": [
      "Frage  4  - Box  4\n"
     ]
    },
    {
     "data": {
      "image/png": "[encoded data removed]",
      "text/plain": [
       "<PIL.Image.Image image mode=RGBA size=40x40 at 0x7FF5CFE2F940>"
      ]
     },
     "metadata": {},
     "output_type": "display_data"
    },
    {
     "name": "stdout",
     "output_type": "stream",
     "text": [
      "Frage  5  - Box  0\n"
     ]
    },
    {
     "data": {
      "image/png": "[encoded data removed]",
      "text/plain": [
       "<PIL.Image.Image image mode=RGBA size=40x40 at 0x7FF5D047CF40>"
      ]
     },
     "metadata": {},
     "output_type": "display_data"
    },
    {
     "name": "stdout",
     "output_type": "stream",
     "text": [
      "Frage  5  - Box  1\n"
     ]
    },
    {
     "data": {
      "image/png": "[encoded data removed]",
      "text/plain": [
       "<PIL.Image.Image image mode=RGBA size=40x40 at 0x7FF5D1373A30>"
      ]
     },
     "metadata": {},
     "output_type": "display_data"
    },
    {
     "name": "stdout",
     "output_type": "stream",
     "text": [
      "Frage  5  - Box  2\n"
     ]
    },
    {
     "data": {
      "image/png": "[encoded data removed]",
      "text/plain": [
       "<PIL.Image.Image image mode=RGBA size=40x40 at 0x7FF5CFE2FC70>"
      ]
     },
     "metadata": {},
     "output_type": "display_data"
    },
    {
     "name": "stdout",
     "output_type": "stream",
     "text": [
      "Frage  5  - Box  3\n"
     ]
    },
    {
     "data": {
      "image/png": "[encoded data removed]",
      "text/plain": [
       "<PIL.Image.Image image mode=RGBA size=40x40 at 0x7FF5D13737F0>"
      ]
     },
     "metadata": {},
     "output_type": "display_data"
    },
    {
     "name": "stdout",
     "output_type": "stream",
     "text": [
      "Frage  5  - Box  4\n"
     ]
    },
    {
     "data": {
      "image/png": "[encoded data removed]",
      "text/plain": [
       "<PIL.Image.Image image mode=RGBA size=40x40 at 0x7FF5D047CF40>"
      ]
     },
     "metadata": {},
     "output_type": "display_data"
    },
    {
     "name": "stdout",
     "output_type": "stream",
     "text": [
      "Frage  6  - Box  0\n"
     ]
    },
    {
     "data": {
      "image/png": "[encoded data removed]",
      "text/plain": [
       "<PIL.Image.Image image mode=RGBA size=40x40 at 0x7FF5D0492C70>"
      ]
     },
     "metadata": {},
     "output_type": "display_data"
    },
    {
     "name": "stdout",
     "output_type": "stream",
     "text": [
      "Frage  6  - Box  1\n"
     ]
    },
    {
     "data": {
      "image/png": "[encoded data removed]",
      "text/plain": [
       "<PIL.Image.Image image mode=RGBA size=40x40 at 0x7FF5D0492D90>"
      ]
     },
     "metadata": {},
     "output_type": "display_data"
    },
    {
     "name": "stdout",
     "output_type": "stream",
     "text": [
      "Frage  6  - Box  2\n"
     ]
    },
    {
     "data": {
      "image/png": "[encoded data removed]",
      "text/plain": [
       "<PIL.Image.Image image mode=RGBA size=40x40 at 0x7FF5D047CF40>"
      ]
     },
     "metadata": {},
     "output_type": "display_data"
    },
    {
     "name": "stdout",
     "output_type": "stream",
     "text": [
      "Frage  6  - Box  3\n"
     ]
    },
    {
     "data": {
      "image/png": "[encoded data removed]",
      "text/plain": [
       "<PIL.Image.Image image mode=RGBA size=40x40 at 0x7FF5D1373A60>"
      ]
     },
     "metadata": {},
     "output_type": "display_data"
    },
    {
     "name": "stdout",
     "output_type": "stream",
     "text": [
      "Frage  6  - Box  4\n"
     ]
    },
    {
     "data": {
      "image/png": "[encoded data removed]",
      "text/plain": [
       "<PIL.Image.Image image mode=RGBA size=40x40 at 0x7FF5D0492640>"
      ]
     },
     "metadata": {},
     "output_type": "display_data"
    },
    {
     "name": "stdout",
     "output_type": "stream",
     "text": [
      "Frage  7  - Box  0\n"
     ]
    },
    {
     "data": {
      "image/png": "[encoded data removed]",
      "text/plain": [
       "<PIL.Image.Image image mode=RGBA size=40x40 at 0x7FF5D047CE20>"
      ]
     },
     "metadata": {},
     "output_type": "display_data"
    },
    {
     "name": "stdout",
     "output_type": "stream",
     "text": [
      "Frage  7  - Box  1\n"
     ]
    },
    {
     "data": {
      "image/png": "[encoded data removed]",
      "text/plain": [
       "<PIL.Image.Image image mode=RGBA size=40x40 at 0x7FF5D04920A0>"
      ]
     },
     "metadata": {},
     "output_type": "display_data"
    },
    {
     "name": "stdout",
     "output_type": "stream",
     "text": [
      "Frage  7  - Box  2\n"
     ]
    },
    {
     "data": {
      "image/png": "[encoded data removed]",
      "text/plain": [
       "<PIL.Image.Image image mode=RGBA size=40x40 at 0x7FF5D13730A0>"
      ]
     },
     "metadata": {},
     "output_type": "display_data"
    },
    {
     "name": "stdout",
     "output_type": "stream",
     "text": [
      "Frage  7  - Box  3\n"
     ]
    },
    {
     "data": {
      "image/png": "[encoded data removed]",
      "text/plain": [
       "<PIL.Image.Image image mode=RGBA size=40x40 at 0x7FF5D047CE20>"
      ]
     },
     "metadata": {},
     "output_type": "display_data"
    },
    {
     "name": "stdout",
     "output_type": "stream",
     "text": [
      "Frage  7  - Box  4\n"
     ]
    },
    {
     "data": {
      "image/png": "[encoded data removed]",
      "text/plain": [
       "<PIL.Image.Image image mode=RGBA size=40x40 at 0x7FF5D0492640>"
      ]
     },
     "metadata": {},
     "output_type": "display_data"
    },
    {
     "name": "stdout",
     "output_type": "stream",
     "text": [
      "Frage  8  - Box  0\n"
     ]
    },
    {
     "data": {
      "image/png": "[encoded data removed]",
      "text/plain": [
       "<PIL.Image.Image image mode=RGBA size=40x40 at 0x7FF5D04920A0>"
      ]
     },
     "metadata": {},
     "output_type": "display_data"
    },
    {
     "name": "stdout",
     "output_type": "stream",
     "text": [
      "Frage  8  - Box  1\n"
     ]
    },
    {
     "data": {
      "image/png": "[encoded data removed]",
      "text/plain": [
       "<PIL.Image.Image image mode=RGBA size=40x40 at 0x7FF5D047CE20>"
      ]
     },
     "metadata": {},
     "output_type": "display_data"
    },
    {
     "name": "stdout",
     "output_type": "stream",
     "text": [
      "Frage  8  - Box  2\n"
     ]
    },
    {
     "data": {
      "image/png": "[encoded data removed]",
      "text/plain": [
       "<PIL.Image.Image image mode=RGBA size=40x40 at 0x7FF5D0492C70>"
      ]
     },
     "metadata": {},
     "output_type": "display_data"
    },
    {
     "name": "stdout",
     "output_type": "stream",
     "text": [
      "Frage  8  - Box  3\n"
     ]
    },
    {
     "data": {
      "image/png": "[encoded data removed]",
      "text/plain": [
       "<PIL.Image.Image image mode=RGBA size=40x40 at 0x7FF5D04920A0>"
      ]
     },
     "metadata": {},
     "output_type": "display_data"
    },
    {
     "name": "stdout",
     "output_type": "stream",
     "text": [
      "Frage  8  - Box  4\n"
     ]
    },
    {
     "data": {
      "image/png": "[encoded data removed]",
      "text/plain": [
       "<PIL.Image.Image image mode=RGBA size=40x40 at 0x7FF5D13737F0>"
      ]
     },
     "metadata": {},
     "output_type": "display_data"
    },
    {
     "name": "stdout",
     "output_type": "stream",
     "text": [
      "Frage  9  - Box  0\n"
     ]
    },
    {
     "data": {
      "image/png": "[encoded data removed]",
      "text/plain": [
       "<PIL.Image.Image image mode=RGBA size=40x40 at 0x7FF5CFE2F7C0>"
      ]
     },
     "metadata": {},
     "output_type": "display_data"
    },
    {
     "name": "stdout",
     "output_type": "stream",
     "text": [
      "Frage  9  - Box  1\n"
     ]
    },
    {
     "data": {
      "image/png": "[encoded data removed]",
      "text/plain": [
       "<PIL.Image.Image image mode=RGBA size=40x40 at 0x7FF5D1373400>"
      ]
     },
     "metadata": {},
     "output_type": "display_data"
    },
    {
     "name": "stdout",
     "output_type": "stream",
     "text": [
      "Frage  9  - Box  2\n"
     ]
    },
    {
     "data": {
      "image/png": "[encoded data removed]",
      "text/plain": [
       "<PIL.Image.Image image mode=RGBA size=40x40 at 0x7FF5CFE2FC70>"
      ]
     },
     "metadata": {},
     "output_type": "display_data"
    },
    {
     "name": "stdout",
     "output_type": "stream",
     "text": [
      "Frage  9  - Box  3\n"
     ]
    },
    {
     "data": {
      "image/png": "[encoded data removed]",
      "text/plain": [
       "<PIL.Image.Image image mode=RGBA size=40x40 at 0x7FF5D1373820>"
      ]
     },
     "metadata": {},
     "output_type": "display_data"
    },
    {
     "name": "stdout",
     "output_type": "stream",
     "text": [
      "Frage  9  - Box  4\n"
     ]
    },
    {
     "data": {
      "image/png": "[encoded data removed]",
      "text/plain": [
       "<PIL.Image.Image image mode=RGBA size=40x40 at 0x7FF5D0492640>"
      ]
     },
     "metadata": {},
     "output_type": "display_data"
    },
    {
     "name": "stdout",
     "output_type": "stream",
     "text": [
      "Frage  10  - Box  0\n"
     ]
    },
    {
     "data": {
      "image/png": "[encoded data removed]",
      "text/plain": [
       "<PIL.Image.Image image mode=RGBA size=40x40 at 0x7FF5D047CF40>"
      ]
     },
     "metadata": {},
     "output_type": "display_data"
    },
    {
     "name": "stdout",
     "output_type": "stream",
     "text": [
      "Frage  10  - Box  1\n"
     ]
    },
    {
     "data": {
      "image/png": "[encoded data removed]",
      "text/plain": [
       "<PIL.Image.Image image mode=RGBA size=40x40 at 0x7FF5D0492C70>"
      ]
     },
     "metadata": {},
     "output_type": "display_data"
    },
    {
     "name": "stdout",
     "output_type": "stream",
     "text": [
      "Frage  10  - Box  2\n"
     ]
    },
    {
     "data": {
      "image/png": "[encoded data removed]",
      "text/plain": [
       "<PIL.Image.Image image mode=RGBA size=40x40 at 0x7FF5D1373760>"
      ]
     },
     "metadata": {},
     "output_type": "display_data"
    },
    {
     "name": "stdout",
     "output_type": "stream",
     "text": [
      "Frage  10  - Box  3\n"
     ]
    },
    {
     "data": {
      "image/png": "[encoded data removed]",
      "text/plain": [
       "<PIL.Image.Image image mode=RGBA size=40x40 at 0x7FF5D0492C70>"
      ]
     },
     "metadata": {},
     "output_type": "display_data"
    },
    {
     "name": "stdout",
     "output_type": "stream",
     "text": [
      "Frage  10  - Box  4\n"
     ]
    },
    {
     "data": {
      "image/png": "[encoded data removed]",
      "text/plain": [
       "<PIL.Image.Image image mode=RGBA size=40x40 at 0x7FF5D1373A90>"
      ]
     },
     "metadata": {},
     "output_type": "display_data"
    },
    {
     "name": "stdout",
     "output_type": "stream",
     "text": [
      "Frage  11  - Box  0\n"
     ]
    },
    {
     "data": {
      "image/png": "[encoded data removed]",
      "text/plain": [
       "<PIL.Image.Image image mode=RGBA size=40x40 at 0x7FF5D047CE20>"
      ]
     },
     "metadata": {},
     "output_type": "display_data"
    },
    {
     "name": "stdout",
     "output_type": "stream",
     "text": [
      "Frage  11  - Box  1\n"
     ]
    },
    {
     "data": {
      "image/png": "[encoded data removed]",
      "text/plain": [
       "<PIL.Image.Image image mode=RGBA size=40x40 at 0x7FF5CFE2FCA0>"
      ]
     },
     "metadata": {},
     "output_type": "display_data"
    },
    {
     "name": "stdout",
     "output_type": "stream",
     "text": [
      "Frage  11  - Box  2\n"
     ]
    },
    {
     "data": {
      "image/png": "[encoded data removed]",
      "text/plain": [
       "<PIL.Image.Image image mode=RGBA size=40x40 at 0x7FF5D1373EB0>"
      ]
     },
     "metadata": {},
     "output_type": "display_data"
    },
    {
     "name": "stdout",
     "output_type": "stream",
     "text": [
      "Frage  11  - Box  3\n"
     ]
    },
    {
     "data": {
      "image/png": "[encoded data removed]",
      "text/plain": [
       "<PIL.Image.Image image mode=RGBA size=40x40 at 0x7FF5D0492D90>"
      ]
     },
     "metadata": {},
     "output_type": "display_data"
    },
    {
     "name": "stdout",
     "output_type": "stream",
     "text": [
      "Frage  11  - Box  4\n"
     ]
    },
    {
     "data": {
      "image/png": "[encoded data removed]",
      "text/plain": [
       "<PIL.Image.Image image mode=RGBA size=40x40 at 0x7FF5D0492640>"
      ]
     },
     "metadata": {},
     "output_type": "display_data"
    },
    {
     "name": "stdout",
     "output_type": "stream",
     "text": [
      "Frage  12  - Box  0\n"
     ]
    },
    {
     "data": {
      "image/png": "[encoded data removed]",
      "text/plain": [
       "<PIL.Image.Image image mode=RGBA size=40x40 at 0x7FF5D0492D90>"
      ]
     },
     "metadata": {},
     "output_type": "display_data"
    },
    {
     "name": "stdout",
     "output_type": "stream",
     "text": [
      "Frage  12  - Box  1\n"
     ]
    },
    {
     "data": {
      "image/png": "[encoded data removed]",
      "text/plain": [
       "<PIL.Image.Image image mode=RGBA size=40x40 at 0x7FF5D047CE80>"
      ]
     },
     "metadata": {},
     "output_type": "display_data"
    },
    {
     "name": "stdout",
     "output_type": "stream",
     "text": [
      "Frage  12  - Box  2\n"
     ]
    },
    {
     "data": {
      "image/png": "[encoded data removed]",
      "text/plain": [
       "<PIL.Image.Image image mode=RGBA size=40x40 at 0x7FF5D047CE20>"
      ]
     },
     "metadata": {},
     "output_type": "display_data"
    },
    {
     "name": "stdout",
     "output_type": "stream",
     "text": [
      "Frage  12  - Box  3\n"
     ]
    },
    {
     "data": {
      "image/png": "[encoded data removed]",
      "text/plain": [
       "<PIL.Image.Image image mode=RGBA size=40x40 at 0x7FF5D1373A60>"
      ]
     },
     "metadata": {},
     "output_type": "display_data"
    },
    {
     "name": "stdout",
     "output_type": "stream",
     "text": [
      "Frage  12  - Box  4\n"
     ]
    },
    {
     "data": {
      "image/png": "[encoded data removed]",
      "text/plain": [
       "<PIL.Image.Image image mode=RGBA size=40x40 at 0x7FF5CFE2F940>"
      ]
     },
     "metadata": {},
     "output_type": "display_data"
    },
    {
     "name": "stdout",
     "output_type": "stream",
     "text": [
      "Frage  13  - Box  0\n"
     ]
    },
    {
     "data": {
      "image/png": "[encoded data removed]",
      "text/plain": [
       "<PIL.Image.Image image mode=RGBA size=40x40 at 0x7FF5D0492D90>"
      ]
     },
     "metadata": {},
     "output_type": "display_data"
    },
    {
     "name": "stdout",
     "output_type": "stream",
     "text": [
      "Frage  13  - Box  1\n"
     ]
    },
    {
     "data": {
      "image/png": "[encoded data removed]",
      "text/plain": [
       "<PIL.Image.Image image mode=RGBA size=40x40 at 0x7FF5D0492C70>"
      ]
     },
     "metadata": {},
     "output_type": "display_data"
    },
    {
     "name": "stdout",
     "output_type": "stream",
     "text": [
      "Frage  13  - Box  2\n"
     ]
    },
    {
     "data": {
      "image/png": "[encoded data removed]",
      "text/plain": [
       "<PIL.Image.Image image mode=RGBA size=40x40 at 0x7FF5D047CE80>"
      ]
     },
     "metadata": {},
     "output_type": "display_data"
    },
    {
     "name": "stdout",
     "output_type": "stream",
     "text": [
      "Frage  13  - Box  3\n"
     ]
    },
    {
     "data": {
      "image/png": "[encoded data removed]",
      "text/plain": [
       "<PIL.Image.Image image mode=RGBA size=40x40 at 0x7FF5CFE2FC70>"
      ]
     },
     "metadata": {},
     "output_type": "display_data"
    },
    {
     "name": "stdout",
     "output_type": "stream",
     "text": [
      "Frage  13  - Box  4\n"
     ]
    },
    {
     "data": {
      "image/png": "[encoded data removed]",
      "text/plain": [
       "<PIL.Image.Image image mode=RGBA size=40x40 at 0x7FF5D047CE20>"
      ]
     },
     "metadata": {},
     "output_type": "display_data"
    },
    {
     "name": "stdout",
     "output_type": "stream",
     "text": [
      "Frage  14  - Box  0\n"
     ]
    },
    {
     "data": {
      "image/png": "[encoded data removed]",
      "text/plain": [
       "<PIL.Image.Image image mode=RGBA size=40x40 at 0x7FF5CFE2FEE0>"
      ]
     },
     "metadata": {},
     "output_type": "display_data"
    },
    {
     "name": "stdout",
     "output_type": "stream",
     "text": [
      "Frage  14  - Box  1\n"
     ]
    },
    {
     "data": {
      "image/png": "[encoded data removed]",
      "text/plain": [
       "<PIL.Image.Image image mode=RGBA size=40x40 at 0x7FF5D047CF40>"
      ]
     },
     "metadata": {},
     "output_type": "display_data"
    },
    {
     "name": "stdout",
     "output_type": "stream",
     "text": [
      "Frage  14  - Box  2\n"
     ]
    },
    {
     "data": {
      "image/png": "[encoded data removed]",
      "text/plain": [
       "<PIL.Image.Image image mode=RGBA size=40x40 at 0x7FF5D047CE20>"
      ]
     },
     "metadata": {},
     "output_type": "display_data"
    },
    {
     "name": "stdout",
     "output_type": "stream",
     "text": [
      "Frage  14  - Box  3\n"
     ]
    },
    {
     "data": {
      "image/png": "[encoded data removed]",
      "text/plain": [
       "<PIL.Image.Image image mode=RGBA size=40x40 at 0x7FF5D0492640>"
      ]
     },
     "metadata": {},
     "output_type": "display_data"
    },
    {
     "name": "stdout",
     "output_type": "stream",
     "text": [
      "Frage  14  - Box  4\n"
     ]
    },
    {
     "data": {
      "image/png": "[encoded data removed]",
      "text/plain": [
       "<PIL.Image.Image image mode=RGBA size=40x40 at 0x7FF5D1373A30>"
      ]
     },
     "metadata": {},
     "output_type": "display_data"
    }
   ],
   "source": [
    "# Gives preview of all cropped Checkboxes\n",
    "def show_all_checkboxes(overlay=True):\n",
    "    for frage in range(0, 14):\n",
    "        for box in range(len(reference_checkbox_positions[frage])):\n",
    "            x, y = reference_checkbox_positions[frage][box]\n",
    "            print(\"Frage \", frage+1, \" - Box \", box)\n",
    "            if overlay:\n",
    "                foreground = ref_bogen.crop((x, y, x+65, y+65)).resize((40, 40)).convert('RGBA')\n",
    "                background = reference_box_red().convert('RGBA')\n",
    "                \n",
    "                foreground.putalpha(127)\n",
    "\n",
    "                display(Image.alpha_composite(background, foreground))\n",
    "                #display(ref_bogen.crop((x, y, x+50, y+50))).resize((40, 40))\n",
    "            else:\n",
    "                display(ref_bogen.crop((x, y, x+50, y+50)).resize((40, 40)))\n",
    "    return\n",
    "\n",
    "def reference_box_red():\n",
    "    box_image = ImageOps.grayscale(Image.open(\"./Evaluationshelfer_Daten/crosses/work_type_empty/P_0.0000___A3cz67pa0001.jpg__126.png\"))  \n",
    "    box_image_red = ImageOps.colorize(box_image, \"red\", \"white\")   \n",
    "    box_image_red.putalpha(127)   \n",
    "    return box_image_red\n",
    "    \n",
    "# Gives preview of all cropped Corners\n",
    "def show_all_corners(corner_positions, bogen_no):\n",
    "    bogen_img = Image.open(\"./Evaluationshelfer_Daten/boegen/Bogen\"+str(bogen_no)+\".jpg\")\n",
    "    for corner in range(4):\n",
    "        x, y = corner_positions[corner]\n",
    "        display(bogen_img.crop((x, y, x+52, y+52)))       \n",
    "show_all_checkboxes()"
   ]
  },
  {
   "cell_type": "code",
   "execution_count": 3,
   "metadata": {},
   "outputs": [
    {
     "name": "stderr",
     "output_type": "stream",
     "text": [
      "/Library/Frameworks/Python.framework/Versions/3.8/lib/python3.8/site-packages/PIL/Image.py:960: UserWarning: Palette images with Transparency expressed in bytes should be converted to RGBA images\n",
      "  warnings.warn(\n"
     ]
    },
    {
     "data": {
      "image/png": "[encoded data removed]",
      "text/plain": [
       "<PIL.Image.Image image mode=L size=52x52 at 0x7FF5CFE2FC70>"
      ]
     },
     "metadata": {},
     "output_type": "display_data"
    },
    {
     "data": {
      "image/png": "[encoded data removed]",
      "text/plain": [
       "<PIL.Image.Image image mode=L size=52x52 at 0x7FF5CFE2F940>"
      ]
     },
     "metadata": {},
     "output_type": "display_data"
    },
    {
     "data": {
      "image/png": "[encoded data removed]",
      "text/plain": [
       "<PIL.Image.Image image mode=L size=52x52 at 0x7FF5CFE2FC70>"
      ]
     },
     "metadata": {},
     "output_type": "display_data"
    },
    {
     "data": {
      "image/png": "[encoded data removed]",
      "text/plain": [
       "<PIL.Image.Image image mode=L size=52x52 at 0x7FF5CFE2F940>"
      ]
     },
     "metadata": {},
     "output_type": "display_data"
    }
   ],
   "source": [
    "# Returns 'difference' between two images\n",
    "def image_difference(image_a, image_b):\n",
    "    width, height = min(image_a.size[0], image_b.size[0]), min(image_a.size[1], image_b.size[1])\n",
    "    # Crop both images to same size and convert to grayscale\n",
    "    image_a = ImageOps.grayscale(image_a.crop((0, 0, width, height)))\n",
    "    image_b = ImageOps.grayscale(image_b.crop((0, 0, width, height)))\n",
    "    \n",
    "    # Numpy macht Sachen schneller\n",
    "    image_a_matrix = np.asarray(image_a, dtype=\"double\")\n",
    "    image_b_matrix = np.asarray(image_b, dtype=\"double\")\n",
    "    \n",
    "    assert image_a_matrix.shape == image_b_matrix.shape, \"Image-Matricies don't have same shape\"\n",
    "    \n",
    "    return np.sum((image_a_matrix - image_b_matrix)**2)\n",
    "\n",
    "def corner_no_to_reference_image(corner_no):\n",
    "    corner_map = {\n",
    "        0: \"ul.png\",\n",
    "        1: \"ur.png\",\n",
    "        2: \"lr.png\",\n",
    "        3: \"ll.png\"\n",
    "    }\n",
    "    return corner_map[corner_no]\n",
    "\n",
    "def find_corner_position(bogen_img, corner_no, radius):\n",
    "    search_center = reference_corner_positions[corner_no]\n",
    "    search_positions = itertools.product(*[range(p-radius, p+radius) for p in search_center])\n",
    "\n",
    "    best_match_value = inf\n",
    "    beast_match_pos = [0, 0]\n",
    "    \n",
    "    corner_img = Image.open(\"./Evaluationshelfer_Daten/masks/\"+corner_no_to_reference_image(corner_no))\n",
    "    \n",
    "    for pos in search_positions:\n",
    "        cropped_bogen = bogen_img.crop((pos[0], pos[1], pos[0]+100, pos[1]+100)) # gets cropped again anyways\n",
    "        match_val = image_difference(cropped_bogen, corner_img)\n",
    "        if match_val < best_match_value:\n",
    "            best_match_pos = pos\n",
    "            best_match_value = match_val\n",
    "    return best_match_pos\n",
    "                \n",
    "def find_corner_positions(bogen_no, radius=30):\n",
    "    corner_positions = []\n",
    "    \n",
    "    for corner_no in range(4):\n",
    "        bogen_img = Image.open(\"./Evaluationshelfer_Daten/boegen/Bogen\"+str(bogen_no)+\".jpg\")\n",
    "        corner_positions.append(find_corner_position(bogen_img, corner_no, radius))\n",
    "        \n",
    "    return corner_positions\n",
    "\n",
    "show_all_corners(find_corner_positions(26), 26)\n",
    "    "
   ]
  },
  {
   "cell_type": "code",
   "execution_count": 7,
   "metadata": {},
   "outputs": [
    {
     "name": "stdout",
     "output_type": "stream",
     "text": [
      "1217.0901736576088 2526.5410419449695\n"
     ]
    },
    {
     "data": {
      "image/png": "[encoded data removed]",
      "text/plain": [
       "<PIL.Image.Image image mode=L size=40x40 at 0x7FF5D13539A0>"
      ]
     },
     "execution_count": 7,
     "metadata": {},
     "output_type": "execute_result"
    }
   ],
   "source": [
    "import scipy as sp\n",
    "from scipy import optimize\n",
    "\n",
    "def generateC(p_d, p):\n",
    "    return np.matrix([\n",
    "        [p_d[0][0], p_d[0][1], 0, 0, 1, 0],\n",
    "        [p_d[1][0], p_d[1][1], 0, 0, 1, 0],\n",
    "        [p_d[2][0], p_d[2][1], 0, 0, 1, 0],\n",
    "        [p_d[3][0], p_d[3][1], 0, 0, 1, 0],\n",
    "        [0, 0, p_d[0][0], p_d[0][1], 0, 1],\n",
    "        [0, 0, p_d[1][0], p_d[1][1], 0, 1],\n",
    "        [0, 0, p_d[2][0], p_d[2][1], 0, 1],\n",
    "        [0, 0, p_d[3][0], p_d[3][1], 0, 1],\n",
    "    ], dtype=\"double\")\n",
    "\n",
    "def generateD(p):\n",
    "    return np.asarray([\n",
    "        [p[0][0]],\n",
    "        [p[1][0]],\n",
    "        [p[2][0]],\n",
    "        [p[3][0]],\n",
    "        [p[0][1]],\n",
    "        [p[1][1]],\n",
    "        [p[2][1]],\n",
    "        [p[3][1]],\n",
    "    ], dtype=\"double\")\n",
    "\n",
    "# Calculate epsilon like specified\n",
    "def epsilon(x, big_C, big_D):\n",
    "    return (((big_C*np.asmatrix(x).transpose()- big_D).A1)**2).sum()\n",
    "\n",
    "# Transform pos like specified\n",
    "def phi(pos, x_Ab):\n",
    "    return np.asarray([x_Ab[0]*pos[0]+x_Ab[1]*pos[1]+x_Ab[4], x_Ab[2]*pos[0]+x_Ab[3]*pos[1]+x_Ab[5]])\n",
    "\n",
    "\n",
    "\n",
    "def get_sheet_transformation(bogen_no):\n",
    "    p = find_corner_positions(bogen_no)\n",
    "    C = generateC(reference_corner_positions, p)\n",
    "    d = generateD(p)\n",
    "    \n",
    "    res = sp.optimize.minimize(epsilon, [1, 0, 0, 1, 0, 0], args=(C, d), method=\"Powell\", tol=0.001)\n",
    "    \n",
    "    return res.x\n",
    "\n",
    "# Alles was, 'Aufgabe (Kästchen finden)' verlangt.\n",
    "def get_any_checkbox(bogen_no, x_Ab, question_no, rating):\n",
    "\n",
    "    bogen_img = Image.open(\"./Evaluationshelfer_Daten/boegen/Bogen\"+str(bogen_no)+\".jpg\")\n",
    "    \n",
    "    reference_pos = reference_checkbox_positions[question_no][rating]\n",
    "    \n",
    "    t_x, t_y = phi(reference_pos, x_Ab)\n",
    "    \n",
    "    print(t_x, t_y)\n",
    "    \n",
    "    return bogen_img.crop((round(t_x), round(t_y), t_x+50, t_y+50)).resize((40, 40))\n",
    "\n",
    "get_any_checkbox(4, get_sheet_transformation(4), 12, 0)\n",
    "    \n",
    "\n"
   ]
  },
  {
   "cell_type": "code",
   "execution_count": null,
   "metadata": {},
   "outputs": [],
   "source": []
  }
 ],
 "metadata": {
  "kernelspec": {
   "display_name": "Python 3",
   "language": "python",
   "name": "python3"
  },
  "language_info": {
   "codemirror_mode": {
    "name": "ipython",
    "version": 3
   },
   "file_extension": ".py",
   "mimetype": "text/x-python",
   "name": "python",
   "nbconvert_exporter": "python",
   "pygments_lexer": "ipython3",
   "version": "3.8.3"
  }
 },
 "nbformat": 4,
 "nbformat_minor": 4
}
